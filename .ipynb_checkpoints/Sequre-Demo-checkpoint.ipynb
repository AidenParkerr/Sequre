{
 "cells": [
  {
   "cell_type": "code",
   "execution_count": 3,
   "id": "4c87443e-739d-4e06-82b4-f66b3d76ba66",
   "metadata": {},
   "outputs": [],
   "source": [
    "import os\n",
    "from utils.config_reader import ConfigReader\n",
    "from utils.video_utils.video_handler import VideoHandler\n",
    "from yolo.detector import YOLODetector\n",
    "from utils.roi_initialiser import ROIInitialiser\n",
    "from utils.visualise import display"
   ]
  },
  {
   "cell_type": "markdown",
   "id": "24913757-bee4-4e45-84d8-0e4ae2e62f8d",
   "metadata": {},
   "source": [
    "# Set up and Read Configuration file"
   ]
  },
  {
   "cell_type": "code",
   "execution_count": 4,
   "id": "7be90d06-4197-479b-909c-e8216fcd1fb6",
   "metadata": {},
   "outputs": [
    {
     "name": "stdout",
     "output_type": "stream",
     "text": [
      "Configuration Keys: \n",
      "dict_keys(['data_config', 'video_config', 'model_config'])\n"
     ]
    }
   ],
   "source": [
    "config_path = os.path.join('configs', 'config.json')\n",
    "config_reader = ConfigReader(config_path)\n",
    "app_config = config_reader.get_config()\n",
    "map(print, app_config.keys())\n",
    "print(f'Configuration Keys: \\n{app_config.keys()}')"
   ]
  },
  {
   "cell_type": "markdown",
   "id": "4505c0b2-501c-484f-bdc1-9277fe617c6f",
   "metadata": {},
   "source": [
    "# Configure Capture"
   ]
  },
  {
   "cell_type": "code",
   "execution_count": 5,
   "id": "0855bb2d-79c3-4dab-b3d1-14f9c54b3ddd",
   "metadata": {},
   "outputs": [
    {
     "name": "stdout",
     "output_type": "stream",
     "text": [
      "capture_fps = 8\n",
      "capture_resolution = (848, 480)\n"
     ]
    }
   ],
   "source": [
    "video_handler = VideoHandler(app_config['video_config'])\n",
    "capture = video_handler.get_capture()\n",
    "\n",
    "capture_fps = video_handler.get_capture_fps(capture)\n",
    "capture_resolution = video_handler.get_resolution(capture)\n",
    "\n",
    "\n",
    "print(f'{capture_fps = }')\n",
    "print(f'{capture_resolution = }')"
   ]
  },
  {
   "cell_type": "code",
   "execution_count": null,
   "id": "ad267fe9-d7ff-44b5-9245-3745126422d2",
   "metadata": {},
   "outputs": [],
   "source": [
    "#Set up YOLODetector"
   ]
  },
  {
   "cell_type": "code",
   "execution_count": 6,
   "id": "6629d056-4979-482c-9087-76f3789852fa",
   "metadata": {},
   "outputs": [
    {
     "name": "stdout",
     "output_type": "stream",
     "text": [
      "YOLOv8s summary (fused): 168 layers, 11156544 parameters, 0 gradients\n"
     ]
    }
   ],
   "source": [
    "model_config = app_config['model_config']\n",
    "detector = YOLODetector(model_config)"
   ]
  },
  {
   "cell_type": "code",
   "execution_count": null,
   "id": "e6459874-e9bc-4775-bdf9-b658295ef6ba",
   "metadata": {},
   "outputs": [],
   "source": [
    "# Display Capture"
   ]
  },
  {
   "cell_type": "code",
   "execution_count": 10,
   "id": "bb73e5d7-5a16-4e82-94dd-5e333dda3e82",
   "metadata": {},
   "outputs": [
    {
     "name": "stdout",
     "output_type": "stream",
     "text": [
      "\n",
      "0: 480x640 3 cars, 1 motorcycle, 206.0ms\n",
      "Speed: 1.2ms preprocess, 206.0ms inference, 1.0ms postprocess per image at shape (1, 3, 480, 640)\n"
     ]
    },
    {
     "data": {
      "text/plain": [
       "array([[[ 35,  57,  54],\n",
       "        [ 46,  68,  65],\n",
       "        [ 50,  72,  69],\n",
       "        ...,\n",
       "        [ 33,  36,  36],\n",
       "        [ 33,  36,  36],\n",
       "        [ 33,  36,  36]],\n",
       "\n",
       "       [[ 99, 121, 118],\n",
       "        [121, 143, 140],\n",
       "        [127, 149, 146],\n",
       "        ...,\n",
       "        [ 38,  41,  41],\n",
       "        [ 38,  41,  41],\n",
       "        [ 38,  41,  41]],\n",
       "\n",
       "       [[ 95, 117, 114],\n",
       "        [104, 126, 123],\n",
       "        [110, 132, 129],\n",
       "        ...,\n",
       "        [ 38,  41,  41],\n",
       "        [ 38,  41,  41],\n",
       "        [ 38,  41,  41]],\n",
       "\n",
       "       ...,\n",
       "\n",
       "       [[ 31,  38,  39],\n",
       "        [ 32,  39,  40],\n",
       "        [ 33,  40,  41],\n",
       "        ...,\n",
       "        [ 19,  55,  43],\n",
       "        [ 24,  54,  40],\n",
       "        [ 24,  54,  40]],\n",
       "\n",
       "       [[ 31,  38,  39],\n",
       "        [ 32,  39,  40],\n",
       "        [ 33,  40,  41],\n",
       "        ...,\n",
       "        [ 21,  57,  45],\n",
       "        [ 25,  55,  41],\n",
       "        [ 25,  55,  41]],\n",
       "\n",
       "       [[ 31,  38,  39],\n",
       "        [ 32,  39,  40],\n",
       "        [ 33,  40,  41],\n",
       "        ...,\n",
       "        [ 22,  58,  46],\n",
       "        [ 27,  57,  43],\n",
       "        [ 25,  55,  41]]], dtype=uint8)"
      ]
     },
     "metadata": {},
     "output_type": "display_data"
    }
   ],
   "source": [
    "while capture.isOpened():\n",
    "  ret, frame = capture.read()\n",
    "  if not ret:\n",
    "      break\n",
    "\n",
    "  frame = video_handler.process_frame(frame)\n",
    "  frame_prediction = detector.predict(frame)\n",
    "  if not display(frame):\n",
    "      break\n",
    "\n"
   ]
  }
 ],
 "metadata": {
  "kernelspec": {
   "display_name": "Python 3 (ipykernel)",
   "language": "python",
   "name": "python3"
  },
  "language_info": {
   "codemirror_mode": {
    "name": "ipython",
    "version": 3
   },
   "file_extension": ".py",
   "mimetype": "text/x-python",
   "name": "python",
   "nbconvert_exporter": "python",
   "pygments_lexer": "ipython3",
   "version": "3.12.2"
  }
 },
 "nbformat": 4,
 "nbformat_minor": 5
}
